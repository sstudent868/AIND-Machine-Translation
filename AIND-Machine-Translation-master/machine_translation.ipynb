{
 "cells": [
  {
   "cell_type": "markdown",
   "metadata": {
    "collapsed": true
   },
   "source": [
    "# Artificial Intelligence Nanodegree\n",
    "## Machine Translation Project\n",
    "In this notebook, sections that end with **'(IMPLEMENTATION)'** in the header indicate that the following blocks of code will require additional functionality which you must provide. Please be sure to read the instructions carefully!\n",
    "\n",
    "## Introduction\n",
    "In this notebook, you will build a deep neural network that functions as part of an end-to-end machine translation pipeline. Your completed pipeline will accept English text as input and return the French translation.\n",
    "\n",
    "- **Preprocess** - You'll convert text to sequence of integers.\n",
    "- **Models** Create models which accepts a sequence of integers as input and returns a probability distribution over possible translations. After learning about the basic types of neural networks that are often used for machine translation, you will engage in your own investigations, to design your own model!\n",
    "- **Prediction** Run the model on English text."
   ]
  },
  {
   "cell_type": "code",
   "execution_count": 1,
   "metadata": {},
   "outputs": [],
   "source": [
    "%load_ext autoreload\n",
    "%aimport helper, tests\n",
    "%autoreload 1"
   ]
  },
  {
   "cell_type": "code",
   "execution_count": 2,
   "metadata": {},
   "outputs": [
    {
     "name": "stderr",
     "output_type": "stream",
     "text": [
      "Using TensorFlow backend.\n"
     ]
    }
   ],
   "source": [
    "import collections\n",
    "\n",
    "import helper\n",
    "import numpy as np\n",
    "import project_tests as tests\n",
    "\n",
    "from keras.preprocessing.text import Tokenizer\n",
    "from keras.preprocessing.sequence import pad_sequences\n",
    "from keras.models import Model\n",
    "from keras.layers import LSTM, GRU, Input, Dense, TimeDistributed, Activation, RepeatVector, Bidirectional, Dropout\n",
    "from keras.layers.embeddings import Embedding\n",
    "from keras.optimizers import Adam\n",
    "from keras.losses import sparse_categorical_crossentropy\n",
    "\n",
    "from sklearn.model_selection import train_test_split"
   ]
  },
  {
   "cell_type": "markdown",
   "metadata": {},
   "source": [
    "### Verify access to the GPU\n",
    "The following test applies only if you expect to be using a GPU, e.g., while running in a Udacity Workspace or using an AWS instance with GPU support. Run the next cell, and verify that the device_type is \"GPU\".\n",
    "- If the device is not GPU & you are running from a Udacity Workspace, then save your workspace with the icon at the top, then click \"enable\" at the bottom of the workspace.\n",
    "- If the device is not GPU & you are running from an AWS instance, then refer to the cloud computing instructions in the classroom to verify your setup steps."
   ]
  },
  {
   "cell_type": "code",
   "execution_count": 3,
   "metadata": {},
   "outputs": [
    {
     "name": "stdout",
     "output_type": "stream",
     "text": [
      "[name: \"/cpu:0\"\n",
      "device_type: \"CPU\"\n",
      "memory_limit: 268435456\n",
      "locality {\n",
      "}\n",
      "incarnation: 10813817694584839720\n",
      ", name: \"/gpu:0\"\n",
      "device_type: \"GPU\"\n",
      "memory_limit: 357171200\n",
      "locality {\n",
      "  bus_id: 1\n",
      "}\n",
      "incarnation: 16361380448864421212\n",
      "physical_device_desc: \"device: 0, name: Tesla K80, pci bus id: 0000:00:04.0\"\n",
      "]\n"
     ]
    }
   ],
   "source": [
    "from tensorflow.python.client import device_lib\n",
    "print(device_lib.list_local_devices())"
   ]
  },
  {
   "cell_type": "markdown",
   "metadata": {},
   "source": [
    "## Dataset\n",
    "We begin by investigating the dataset that will be used to train and evaluate your pipeline.  The most common datasets used for machine translation are from [WMT](http://www.statmt.org/).  However, that will take a long time to train a neural network on.  We'll be using a dataset we created for this project that contains a small vocabulary.  You'll be able to train your model in a reasonable time with this dataset.\n",
    "### Load Data\n",
    "The data is located in `data/small_vocab_en` and `data/small_vocab_fr`. The `small_vocab_en` file contains English sentences with their French translations in the `small_vocab_fr` file. Load the English and French data from these files from running the cell below."
   ]
  },
  {
   "cell_type": "code",
   "execution_count": 4,
   "metadata": {},
   "outputs": [
    {
     "name": "stdout",
     "output_type": "stream",
     "text": [
      "Dataset Loaded\n",
      "<class 'list'>\n"
     ]
    }
   ],
   "source": [
    "# Load English data\n",
    "english_sentences = helper.load_data('data/small_vocab_en')\n",
    "# Load French data\n",
    "french_sentences = helper.load_data('data/small_vocab_fr')\n",
    "\n",
    "print('Dataset Loaded')\n",
    "print(type(english_sentences))"
   ]
  },
  {
   "cell_type": "markdown",
   "metadata": {},
   "source": [
    "### Files\n",
    "Each line in `small_vocab_en` contains an English sentence with the respective translation in each line of `small_vocab_fr`.  View the first two lines from each file."
   ]
  },
  {
   "cell_type": "code",
   "execution_count": 5,
   "metadata": {},
   "outputs": [
    {
     "name": "stdout",
     "output_type": "stream",
     "text": [
      "small_vocab_en Line 1:  new jersey is sometimes quiet during autumn , and it is snowy in april .\n",
      "small_vocab_fr Line 1:  new jersey est parfois calme pendant l' automne , et il est neigeux en avril .\n",
      "small_vocab_en Line 2:  the united states is usually chilly during july , and it is usually freezing in november .\n",
      "small_vocab_fr Line 2:  les états-unis est généralement froid en juillet , et il gèle habituellement en novembre .\n"
     ]
    }
   ],
   "source": [
    "for sample_i in range(2):\n",
    "    print('small_vocab_en Line {}:  {}'.format(sample_i + 1, english_sentences[sample_i]))\n",
    "    print('small_vocab_fr Line {}:  {}'.format(sample_i + 1, french_sentences[sample_i]))"
   ]
  },
  {
   "cell_type": "markdown",
   "metadata": {},
   "source": [
    "From looking at the sentences, you can see they have been preprocessed already.  The puncuations have been delimited using spaces. All the text have been converted to lowercase.  This should save you some time, but the text requires more preprocessing.\n",
    "### Vocabulary\n",
    "The complexity of the problem is determined by the complexity of the vocabulary.  A more complex vocabulary is a more complex problem.  Let's look at the complexity of the dataset we'll be working with."
   ]
  },
  {
   "cell_type": "code",
   "execution_count": 6,
   "metadata": {},
   "outputs": [
    {
     "name": "stdout",
     "output_type": "stream",
     "text": [
      "1823250 English words.\n",
      "227 unique English words.\n",
      "10 Most common words in the English dataset:\n",
      "\"is\" \",\" \".\" \"in\" \"it\" \"during\" \"the\" \"but\" \"and\" \"sometimes\"\n",
      "\n",
      "1961295 French words.\n",
      "355 unique French words.\n",
      "10 Most common words in the French dataset:\n",
      "\"est\" \".\" \",\" \"en\" \"il\" \"les\" \"mais\" \"et\" \"la\" \"parfois\"\n"
     ]
    }
   ],
   "source": [
    "english_words_counter = collections.Counter([word for sentence in english_sentences for word in sentence.split()])\n",
    "french_words_counter = collections.Counter([word for sentence in french_sentences for word in sentence.split()])\n",
    "\n",
    "print('{} English words.'.format(len([word for sentence in english_sentences for word in sentence.split()])))\n",
    "print('{} unique English words.'.format(len(english_words_counter)))\n",
    "print('10 Most common words in the English dataset:')\n",
    "print('\"' + '\" \"'.join(list(zip(*english_words_counter.most_common(10)))[0]) + '\"')\n",
    "print()\n",
    "print('{} French words.'.format(len([word for sentence in french_sentences for word in sentence.split()])))\n",
    "print('{} unique French words.'.format(len(french_words_counter)))\n",
    "print('10 Most common words in the French dataset:')\n",
    "print('\"' + '\" \"'.join(list(zip(*french_words_counter.most_common(10)))[0]) + '\"')"
   ]
  },
  {
   "cell_type": "markdown",
   "metadata": {},
   "source": [
    "For comparison, _Alice's Adventures in Wonderland_ contains 2,766 unique words of a total of 15,500 words.\n",
    "## Preprocess\n",
    "For this project, you won't use text data as input to your model. Instead, you'll convert the text into sequences of integers using the following preprocess methods:\n",
    "1. Tokenize the words into ids\n",
    "2. Add padding to make all the sequences the same length.\n",
    "\n",
    "Time to start preprocessing the data...\n",
    "### Tokenize (IMPLEMENTATION)\n",
    "For a neural network to predict on text data, it first has to be turned into data it can understand. Text data like \"dog\" is a sequence of ASCII character encodings.  Since a neural network is a series of multiplication and addition operations, the input data needs to be number(s).\n",
    "\n",
    "We can turn each character into a number or each word into a number.  These are called character and word ids, respectively.  Character ids are used for character level models that generate text predictions for each character.  A word level model uses word ids that generate text predictions for each word.  Word level models tend to learn better, since they are lower in complexity, so we'll use those.\n",
    "\n",
    "Turn each sentence into a sequence of words ids using Keras's [`Tokenizer`](https://keras.io/preprocessing/text/#tokenizer) function. Use this function to tokenize `english_sentences` and `french_sentences` in the cell below.\n",
    "\n",
    "Running the cell will run `tokenize` on sample data and show output for debugging."
   ]
  },
  {
   "cell_type": "code",
   "execution_count": 7,
   "metadata": {},
   "outputs": [
    {
     "name": "stdout",
     "output_type": "stream",
     "text": [
      "{'the': 1, 'quick': 2, 'a': 3, 'brown': 4, 'fox': 5, 'jumps': 6, 'over': 7, 'lazy': 8, 'dog': 9, 'by': 10, 'jove': 11, 'my': 12, 'study': 13, 'of': 14, 'lexicography': 15, 'won': 16, 'prize': 17, 'this': 18, 'is': 19, 'short': 20, 'sentence': 21}\n",
      "\n",
      "Sequence 1 in x\n",
      "  Input:  The quick brown fox jumps over the lazy dog .\n",
      "  Output: [1, 2, 4, 5, 6, 7, 1, 8, 9]\n",
      "Sequence 2 in x\n",
      "  Input:  By Jove , my quick study of lexicography won a prize .\n",
      "  Output: [10, 11, 12, 2, 13, 14, 15, 16, 3, 17]\n",
      "Sequence 3 in x\n",
      "  Input:  This is a short sentence .\n",
      "  Output: [18, 19, 3, 20, 21]\n"
     ]
    }
   ],
   "source": [
    "def tokenize(x):\n",
    "    \"\"\"\n",
    "    Tokenize x\n",
    "    :param x: List of sentences/strings to be tokenized\n",
    "    :return: Tuple of (tokenized x data, tokenizer used to tokenize x)\n",
    "    \"\"\"\n",
    "    # TODO: Implement\n",
    "    \n",
    "    # Create the tokeninzer\n",
    "    t = Tokenizer()\n",
    "    # Create dictionary mapping words (str) to their rank/index (int)\n",
    "    t.fit_on_texts(x)\n",
    "    # Use the tokenizer to tokenize the text\n",
    "    text_sequences = t.texts_to_sequences(x)\n",
    "    return text_sequences, t\n",
    "\n",
    "tests.test_tokenize(tokenize)\n",
    "\n",
    "# Tokenize Example output\n",
    "text_sentences = [\n",
    "    'The quick brown fox jumps over the lazy dog .',\n",
    "    'By Jove , my quick study of lexicography won a prize .',\n",
    "    'This is a short sentence .']\n",
    "text_tokenized, text_tokenizer = tokenize(text_sentences)\n",
    "print(text_tokenizer.word_index)\n",
    "print()\n",
    "for sample_i, (sent, token_sent) in enumerate(zip(text_sentences, text_tokenized)):\n",
    "    print('Sequence {} in x'.format(sample_i + 1))\n",
    "    print('  Input:  {}'.format(sent))\n",
    "    print('  Output: {}'.format(token_sent))"
   ]
  },
  {
   "cell_type": "markdown",
   "metadata": {},
   "source": [
    "### Padding (IMPLEMENTATION)\n",
    "When batching the sequence of word ids together, each sequence needs to be the same length.  Since sentences are dynamic in length, we can add padding to the end of the sequences to make them the same length.\n",
    "\n",
    "Make sure all the English sequences have the same length and all the French sequences have the same length by adding padding to the **end** of each sequence using Keras's [`pad_sequences`](https://keras.io/preprocessing/sequence/#pad_sequences) function."
   ]
  },
  {
   "cell_type": "code",
   "execution_count": 8,
   "metadata": {},
   "outputs": [
    {
     "name": "stdout",
     "output_type": "stream",
     "text": [
      "Sequence 1 in x\n",
      "  Input:  [1 2 4 5 6 7 1 8 9]\n",
      "  Output: [1 2 4 5 6 7 1 8 9 0]\n",
      "Sequence 2 in x\n",
      "  Input:  [10 11 12  2 13 14 15 16  3 17]\n",
      "  Output: [10 11 12  2 13 14 15 16  3 17]\n",
      "Sequence 3 in x\n",
      "  Input:  [18 19  3 20 21]\n",
      "  Output: [18 19  3 20 21  0  0  0  0  0]\n"
     ]
    }
   ],
   "source": [
    "def pad(x, length=None):\n",
    "    \"\"\"\n",
    "    Pad x\n",
    "    :param x: List of sequences.\n",
    "    :param length: Length to pad the sequence to.  If None, use length of longest sequence in x.\n",
    "    :return: Padded numpy array of sequences\n",
    "    \"\"\"\n",
    "    # TODO: Implement\n",
    "    \n",
    "    # If length equals None, set it to be the length of the longest sequence in x\n",
    "    if length == None:\n",
    "        length = len(max(x, key=len))\n",
    "        \n",
    "    # Use Keras's pad_sequences to pad the sequences with 0's\n",
    "    padded_sequences = pad_sequences(sequences=x, maxlen=length, padding='post', value=0)\n",
    "    \n",
    "    return padded_sequences\n",
    "\n",
    "tests.test_pad(pad)\n",
    "\n",
    "# Pad Tokenized output\n",
    "test_pad = pad(text_tokenized)\n",
    "for sample_i, (token_sent, pad_sent) in enumerate(zip(text_tokenized, test_pad)):\n",
    "    print('Sequence {} in x'.format(sample_i + 1))\n",
    "    print('  Input:  {}'.format(np.array(token_sent)))\n",
    "    print('  Output: {}'.format(pad_sent))"
   ]
  },
  {
   "cell_type": "markdown",
   "metadata": {},
   "source": [
    "### Preprocess Pipeline\n",
    "Your focus for this project is to build neural network architecture, so we won't ask you to create a preprocess pipeline.  Instead, we've provided you with the implementation of the `preprocess` function."
   ]
  },
  {
   "cell_type": "code",
   "execution_count": 9,
   "metadata": {},
   "outputs": [
    {
     "name": "stdout",
     "output_type": "stream",
     "text": [
      "Data Preprocessed\n",
      "Max English sentence length: 15\n",
      "Max French sentence length: 21\n",
      "English vocabulary size: 199\n",
      "French vocabulary size: 344\n"
     ]
    }
   ],
   "source": [
    "def preprocess(x, y):\n",
    "    \"\"\"\n",
    "    Preprocess x and y\n",
    "    :param x: Feature List of sentences\n",
    "    :param y: Label List of sentences\n",
    "    :return: Tuple of (Preprocessed x, Preprocessed y, x tokenizer, y tokenizer)\n",
    "    \"\"\"\n",
    "    preprocess_x, x_tk = tokenize(x)\n",
    "    preprocess_y, y_tk = tokenize(y)\n",
    "\n",
    "    preprocess_x = pad(preprocess_x)\n",
    "    preprocess_y = pad(preprocess_y)\n",
    "\n",
    "    # Keras's sparse_categorical_crossentropy function requires the labels to be in 3 dimensions\n",
    "    preprocess_y = preprocess_y.reshape(*preprocess_y.shape, 1)\n",
    "\n",
    "    return preprocess_x, preprocess_y, x_tk, y_tk\n",
    "\n",
    "preproc_english_sentences, preproc_french_sentences, english_tokenizer, french_tokenizer =\\\n",
    "    preprocess(english_sentences, french_sentences)\n",
    "    \n",
    "max_english_sequence_length = preproc_english_sentences.shape[1]\n",
    "max_french_sequence_length = preproc_french_sentences.shape[1]\n",
    "english_vocab_size = len(english_tokenizer.word_index)\n",
    "french_vocab_size = len(french_tokenizer.word_index)\n",
    "\n",
    "print('Data Preprocessed')\n",
    "print(\"Max English sentence length:\", max_english_sequence_length)\n",
    "print(\"Max French sentence length:\", max_french_sequence_length)\n",
    "print(\"English vocabulary size:\", english_vocab_size)\n",
    "print(\"French vocabulary size:\", french_vocab_size)"
   ]
  },
  {
   "cell_type": "markdown",
   "metadata": {},
   "source": [
    "### Extension - Split the data\n",
    "Use `sklearn.model_selection.train_test_split` to split the data into training and test sets.\n",
    "\n",
    "Note: `train_test_split` should be perferred on X and y data together, not seperately.\n",
    "\n",
    "For example,\n",
    "\n",
    "`train_test_split(X, y, test_size = 0.2, random_state = 42)`\n",
    "\n",
    "Do not split the data seperately (as seen as the commented out code in the below cell)."
   ]
  },
  {
   "cell_type": "code",
   "execution_count": 10,
   "metadata": {},
   "outputs": [],
   "source": [
    "### Split the unprocessed data into training and test sets using Sklearn ###\n",
    "\n",
    "english_sentences_train, english_sentences_test, french_sentences_train, french_sentences_test =\\\n",
    "    train_test_split(english_sentences, french_sentences, test_size=0.2, random_state=42)\n",
    "    \n",
    "    \n",
    "### NOT LIKE THIS ###\n",
    "\n",
    "#french_sentences_train, french_sentences_test = train_test_split(french_sentences,\n",
    "                                                                 #test_size=0.2)\n",
    "    \n",
    "#english_sentences_train, english_sentences_test = train_test_split(english_sentences,\n",
    "                                                                 #test_size=0.2)"
   ]
  },
  {
   "cell_type": "code",
   "execution_count": 11,
   "metadata": {},
   "outputs": [
    {
     "name": "stdout",
     "output_type": "stream",
     "text": [
      "1458806 English words in the training set.\n",
      "227 unique English words in the training set.\n",
      "10 Most common words in the English training dataset:\n",
      "\"is\" \",\" \".\" \"in\" \"it\" \"during\" \"the\" \"but\" \"and\" \"sometimes\"\n",
      "\n",
      "1568964 French words in the training set.\n",
      "354 unique French words in the training set.\n",
      "10 Most common words in the French training dataset:\n",
      "\"est\" \".\" \",\" \"en\" \"il\" \"les\" \"mais\" \"et\" \"la\" \"parfois\"\n"
     ]
    }
   ],
   "source": [
    "# Calculate the training set stats\n",
    "\n",
    "english_train_words_counter = collections.Counter([word for sentence in english_sentences_train for word in sentence.split()])\n",
    "french_train_words_counter = collections.Counter([word for sentence in french_sentences_train for word in sentence.split()])\n",
    "\n",
    "print('{} English words in the training set.'.format(len([word for sentence in english_sentences_train for word in sentence.split()])))\n",
    "print('{} unique English words in the training set.'.format(len(english_train_words_counter)))\n",
    "print('10 Most common words in the English training dataset:')\n",
    "print('\"' + '\" \"'.join(list(zip(*english_train_words_counter.most_common(10)))[0]) + '\"')\n",
    "print()\n",
    "print('{} French words in the training set.'.format(len([word for sentence in french_sentences_train for word in sentence.split()])))\n",
    "print('{} unique French words in the training set.'.format(len(french_train_words_counter)))\n",
    "print('10 Most common words in the French training dataset:')\n",
    "print('\"' + '\" \"'.join(list(zip(*french_train_words_counter.most_common(10)))[0]) + '\"')"
   ]
  },
  {
   "cell_type": "code",
   "execution_count": 12,
   "metadata": {},
   "outputs": [
    {
     "name": "stdout",
     "output_type": "stream",
     "text": [
      "364444 English words in the test set.\n",
      "227 unique English words in the test set.\n",
      "10 Most common words in the English test dataset:\n",
      "\"is\" \",\" \".\" \"in\" \"it\" \"during\" \"the\" \"but\" \"and\" \"sometimes\"\n",
      "\n",
      "392331 French words in the test set.\n",
      "338 unique French words in the test set.\n",
      "10 Most common words in the French test dataset:\n",
      "\"est\" \".\" \",\" \"en\" \"il\" \"les\" \"mais\" \"et\" \"la\" \"parfois\"\n"
     ]
    }
   ],
   "source": [
    "# Calculate the test set stats\n",
    "\n",
    "english_test_words_counter = collections.Counter([word for sentence in english_sentences_test for word in sentence.split()])\n",
    "french_test_words_counter = collections.Counter([word for sentence in french_sentences_test for word in sentence.split()])\n",
    "\n",
    "print('{} English words in the test set.'.format(len([word for sentence in english_sentences_test for word in sentence.split()])))\n",
    "print('{} unique English words in the test set.'.format(len(english_test_words_counter)))\n",
    "print('10 Most common words in the English test dataset:')\n",
    "print('\"' + '\" \"'.join(list(zip(*english_test_words_counter.most_common(10)))[0]) + '\"')\n",
    "print()\n",
    "print('{} French words in the test set.'.format(len([word for sentence in french_sentences_test for word in sentence.split()])))\n",
    "print('{} unique French words in the test set.'.format(len(french_test_words_counter)))\n",
    "print('10 Most common words in the French test dataset:')\n",
    "print('\"' + '\" \"'.join(list(zip(*french_test_words_counter.most_common(10)))[0]) + '\"')"
   ]
  },
  {
   "cell_type": "markdown",
   "metadata": {},
   "source": [
    "### Preprocess the training data\n",
    "\n",
    "Use `preprocess` to process the training split of the data. "
   ]
  },
  {
   "cell_type": "code",
   "execution_count": 13,
   "metadata": {},
   "outputs": [
    {
     "name": "stdout",
     "output_type": "stream",
     "text": [
      "Training Data Preprocessed\n",
      "Max English train dataset sentence length: 15\n",
      "Max French train dataset sentence length: 21\n",
      "English train dataset vocabulary size: 199\n",
      "French train dataset vocabulary size: 343\n"
     ]
    }
   ],
   "source": [
    "# Preprocess the training split of the data\n",
    "\n",
    "preproc_english_sentences_train, preproc_french_sentences_train, english_tokenizer_train, french_tokenizer_train =\\\n",
    "    preprocess(english_sentences_train, french_sentences_train)\n",
    "    \n",
    "max_english_sequence_length_train = preproc_english_sentences_train.shape[1]\n",
    "max_french_sequence_length_train = preproc_french_sentences_train.shape[1]\n",
    "english_vocab_size_train = len(english_tokenizer_train.word_index)\n",
    "french_vocab_size_train = len(french_tokenizer_train.word_index)\n",
    "\n",
    "print('Training Data Preprocessed')\n",
    "print(\"Max English train dataset sentence length:\", max_english_sequence_length_train)\n",
    "print(\"Max French train dataset sentence length:\", max_french_sequence_length_train)\n",
    "print(\"English train dataset vocabulary size:\", english_vocab_size_train)\n",
    "print(\"French train dataset vocabulary size:\", french_vocab_size_train)"
   ]
  },
  {
   "cell_type": "markdown",
   "metadata": {},
   "source": [
    "### Preprocess the training data\n",
    "\n",
    "Use `preprocess` to process the test split of the data. "
   ]
  },
  {
   "cell_type": "code",
   "execution_count": 14,
   "metadata": {},
   "outputs": [
    {
     "name": "stdout",
     "output_type": "stream",
     "text": [
      "Test Data Preprocessed\n",
      "Max English test dataset sentence length: 15\n",
      "Max French test dataset sentence length: 20\n",
      "English test datset vocab size: 199\n",
      "French test dataset vocab size 326\n",
      "(27573, 20, 1)\n"
     ]
    }
   ],
   "source": [
    "# Preprocess the test split of the data \n",
    "\n",
    "preproc_english_sentences_test, preproc_french_sentences_test, english_tokenizer_test, french_tokenizer_test =\\\n",
    "    preprocess(english_sentences_test, french_sentences_test)\n",
    "    \n",
    "max_english_sequence_length_test = preproc_english_sentences_test.shape[1]\n",
    "max_french_sequence_length_test = preproc_french_sentences_test.shape[1]\n",
    "english_vocab_size_test = len(english_tokenizer_test.word_index)\n",
    "french_vocab_size_test = len(french_tokenizer_test.word_index)\n",
    "\n",
    "print('Test Data Preprocessed')\n",
    "print('Max English test dataset sentence length:', max_english_sequence_length_test)\n",
    "print('Max French test dataset sentence length:', max_french_sequence_length_test)\n",
    "print('English test datset vocab size:', english_vocab_size_test)\n",
    "print('French test dataset vocab size', french_vocab_size_test)\n",
    "print(preproc_french_sentences_test.shape)"
   ]
  },
  {
   "cell_type": "markdown",
   "metadata": {},
   "source": [
    "## Models\n",
    "In this section, you will experiment with various neural network architectures.\n",
    "You will begin by training four relatively simple architectures.\n",
    "- Model 1 is a simple RNN\n",
    "- Model 2 is a RNN with Embedding\n",
    "- Model 3 is a Bidirectional RNN\n",
    "- Model 4 is an optional Encoder-Decoder RNN\n",
    "\n",
    "After experimenting with the four simple architectures, you will construct a deeper architecture that is designed to outperform all four models.\n",
    "### Ids Back to Text\n",
    "The neural network will be translating the input to words ids, which isn't the final form we want.  We want the French translation.  The function `logits_to_text` will bridge the gab between the logits from the neural network to the French translation.  You'll be using this function to better understand the output of the neural network."
   ]
  },
  {
   "cell_type": "code",
   "execution_count": 15,
   "metadata": {},
   "outputs": [
    {
     "name": "stdout",
     "output_type": "stream",
     "text": [
      "`logits_to_text` function loaded.\n"
     ]
    }
   ],
   "source": [
    "def logits_to_text(logits, tokenizer):\n",
    "    \"\"\"\n",
    "    Turn logits from a neural network into text using the tokenizer\n",
    "    :param logits: Logits from a neural network\n",
    "    :param tokenizer: Keras Tokenizer fit on the labels\n",
    "    :return: String that represents the text of the logits\n",
    "    \"\"\"\n",
    "    index_to_words = {id: word for word, id in tokenizer.word_index.items()}\n",
    "    index_to_words[0] = '<PAD>'\n",
    "\n",
    "    return ' '.join([index_to_words[prediction] for prediction in np.argmax(logits, 1)])\n",
    "\n",
    "print('`logits_to_text` function loaded.')"
   ]
  },
  {
   "cell_type": "markdown",
   "metadata": {},
   "source": [
    "### Model 1: RNN (IMPLEMENTATION)\n",
    "![RNN](images/rnn.png)\n",
    "A basic RNN model is a good baseline for sequence data.  In this model, you'll build a RNN that translates English to French."
   ]
  },
  {
   "cell_type": "code",
   "execution_count": 22,
   "metadata": {},
   "outputs": [
    {
     "name": "stdout",
     "output_type": "stream",
     "text": [
      "Train on 110288 samples, validate on 27573 samples\n",
      "Epoch 1/10\n",
      "110288/110288 [==============================] - 13s 121us/step - loss: 2.0964 - acc: 0.5273 - val_loss: 1.5185 - val_acc: 0.5961\n",
      "Epoch 2/10\n",
      "110288/110288 [==============================] - 11s 104us/step - loss: 1.3816 - acc: 0.6200 - val_loss: 1.2893 - val_acc: 0.6351\n",
      "Epoch 3/10\n",
      "110288/110288 [==============================] - 11s 104us/step - loss: 1.2259 - acc: 0.6499 - val_loss: 1.1659 - val_acc: 0.6628\n",
      "Epoch 4/10\n",
      "110288/110288 [==============================] - 11s 104us/step - loss: 1.1334 - acc: 0.6651 - val_loss: 1.0972 - val_acc: 0.6648\n",
      "Epoch 5/10\n",
      "110288/110288 [==============================] - 12s 104us/step - loss: 1.0767 - acc: 0.6733 - val_loss: 1.0523 - val_acc: 0.6715\n",
      "Epoch 6/10\n",
      "110288/110288 [==============================] - 12s 105us/step - loss: 1.0371 - acc: 0.6778 - val_loss: 1.0136 - val_acc: 0.6837\n",
      "Epoch 7/10\n",
      "110288/110288 [==============================] - 12s 105us/step - loss: 1.0132 - acc: 0.6816 - val_loss: 1.0010 - val_acc: 0.6869\n",
      "Epoch 8/10\n",
      "110288/110288 [==============================] - 12s 105us/step - loss: 0.9777 - acc: 0.6883 - val_loss: 0.9665 - val_acc: 0.6871\n",
      "Epoch 9/10\n",
      "110288/110288 [==============================] - 12s 105us/step - loss: 0.9580 - acc: 0.6906 - val_loss: 0.9323 - val_acc: 0.6993\n",
      "Epoch 10/10\n",
      "110288/110288 [==============================] - 12s 105us/step - loss: 0.9375 - acc: 0.6944 - val_loss: 0.9306 - val_acc: 0.6993\n",
      "new jersey est parfois calme en mois de mai est est en en <PAD> <PAD> <PAD> <PAD> <PAD> <PAD> <PAD> <PAD>\n"
     ]
    }
   ],
   "source": [
    "def simple_model(input_shape, output_sequence_length, english_vocab_size, french_vocab_size):\n",
    "    \"\"\"\n",
    "    Build and train a basic RNN on x and y\n",
    "    :param input_shape: Tuple of input shape\n",
    "    :param output_sequence_length: Length of output sequence\n",
    "    :param english_vocab_size: Number of unique English words in the dataset\n",
    "    :param french_vocab_size: Number of unique French words in the dataset\n",
    "    :return: Keras model built, but not trained\n",
    "    \"\"\"\n",
    "    # TODO: Build the layers\n",
    "    \n",
    "    # Input layer\n",
    "    input_layer = Input(shape=input_shape[1:])\n",
    "    \n",
    "    # GRU Layer\n",
    "    x = GRU(output_sequence_length, return_sequences=True)(input_layer)\n",
    "    \n",
    "    # Fully-connected Layer\n",
    "    x = Dense(french_vocab_size*4, activation='relu')(x)\n",
    "    \n",
    "    # Output Layer\n",
    "    output_layer = Dense(french_vocab_size, activation='softmax')(x)\n",
    "    \n",
    "    # Create model\n",
    "    model = Model(inputs=input_layer, outputs=output_layer)\n",
    "    \n",
    "    # Compile the model\n",
    "    model.compile(loss=sparse_categorical_crossentropy,\n",
    "                  optimizer=Adam(lr = 0.01),\n",
    "                  metrics=['accuracy'])\n",
    "    return model\n",
    "tests.test_simple_model(simple_model)\n",
    "\n",
    "# Reshaping the input to work with a basic RNN\n",
    "tmp_x = pad(preproc_english_sentences, max_french_sequence_length)\n",
    "tmp_x = tmp_x.reshape((-1, preproc_french_sentences.shape[-2], 1))\n",
    "\n",
    "# Train the model on the training set\n",
    "simple_rnn_model = simple_model(\n",
    "    tmp_x.shape,\n",
    "    max_french_sequence_length,\n",
    "    english_vocab_size + 1,\n",
    "    french_vocab_size + 1)\n",
    "\n",
    "simple_rnn_model.fit(tmp_x, preproc_french_sentences, batch_size=1024, epochs=10, validation_split=0.2)\n",
    "\n",
    "# Print prediction(s)\n",
    "print(logits_to_text(simple_rnn_model.predict(tmp_x[:1])[0], french_tokenizer))"
   ]
  },
  {
   "cell_type": "markdown",
   "metadata": {},
   "source": [
    "### Train the simple model on the training data set\n",
    "\n",
    "Use the same model as above on the training data split to see how it performs on the training split of the data."
   ]
  },
  {
   "cell_type": "code",
   "execution_count": 20,
   "metadata": {},
   "outputs": [
    {
     "name": "stdout",
     "output_type": "stream",
     "text": [
      "Train on 88230 samples, validate on 22058 samples\n",
      "Epoch 1/10\n",
      "88230/88230 [==============================] - 22s 246us/step - loss: 1.2497 - acc: 0.6594 - val_loss: 0.9390 - val_acc: 0.7110\n",
      "Epoch 2/10\n",
      "88230/88230 [==============================] - 21s 242us/step - loss: 0.8443 - acc: 0.7292 - val_loss: 0.8314 - val_acc: 0.7263\n",
      "Epoch 3/10\n",
      "88230/88230 [==============================] - 21s 239us/step - loss: 0.7776 - acc: 0.7413 - val_loss: 0.8056 - val_acc: 0.7300\n",
      "Epoch 4/10\n",
      "88230/88230 [==============================] - 21s 242us/step - loss: 0.7170 - acc: 0.7550 - val_loss: 0.6632 - val_acc: 0.7706\n",
      "Epoch 5/10\n",
      "88230/88230 [==============================] - 21s 244us/step - loss: 0.6614 - acc: 0.7721 - val_loss: 0.6473 - val_acc: 0.7726\n",
      "Epoch 6/10\n",
      "88230/88230 [==============================] - 21s 242us/step - loss: 0.6275 - acc: 0.7827 - val_loss: 0.5924 - val_acc: 0.7962\n",
      "Epoch 7/10\n",
      "88230/88230 [==============================] - 21s 239us/step - loss: 0.5987 - acc: 0.7924 - val_loss: 0.7228 - val_acc: 0.7485\n",
      "Epoch 8/10\n",
      "88230/88230 [==============================] - 21s 240us/step - loss: 0.5712 - acc: 0.8019 - val_loss: 0.6378 - val_acc: 0.7839\n",
      "Epoch 9/10\n",
      "88230/88230 [==============================] - 21s 240us/step - loss: 0.5606 - acc: 0.8064 - val_loss: 0.5155 - val_acc: 0.8230\n",
      "Epoch 10/10\n",
      "88230/88230 [==============================] - 21s 241us/step - loss: 0.5442 - acc: 0.8111 - val_loss: 0.6341 - val_acc: 0.7889\n",
      "l' inde est le gel habituellement en janvier et il est jamais jamais en juin <PAD> <PAD> <PAD> <PAD> <PAD> <PAD>\n"
     ]
    }
   ],
   "source": [
    "### Try the simple_model on the training split of the dataset\n",
    "\n",
    "def simple_model_split(input_shape, output_sequence_length, english_vocab_size, french_vocab_size):\n",
    "    \"\"\"\n",
    "    Build and train a basic RNN on x and y\n",
    "    :param input_shape: Tuple of input shape\n",
    "    :param output_sequence_length: Length of output sequence\n",
    "    :param english_vocab_size: Number of unique English words in the dataset\n",
    "    :param french_vocab_size: Number of unique French words in the dataset\n",
    "    :return: Keras model built, but not trained\n",
    "    \"\"\"\n",
    "    # TODO: Build the layers\n",
    "    \n",
    "    # Input layer\n",
    "    input_layer = Input(shape=input_shape[1:])\n",
    "    \n",
    "    # GRU Layer\n",
    "    x = GRU(256, return_sequences=True)(input_layer)\n",
    "    \n",
    "    # Fully-connected Layer\n",
    "    x = Dense(french_vocab_size*4, activation='relu')(x)\n",
    "    \n",
    "    # Output Layer\n",
    "    output_layer = TimeDistributed(Dense(french_vocab_size, activation='softmax'))(x)\n",
    "    \n",
    "    # Create model\n",
    "    model = Model(inputs=input_layer, outputs=output_layer)\n",
    "    \n",
    "    # Compile the model\n",
    "    model.compile(loss=sparse_categorical_crossentropy,\n",
    "                  optimizer=Adam(lr = 0.01),\n",
    "                  metrics=['accuracy'])\n",
    "    return model\n",
    "\n",
    "# Reshaping the input to work with a basic RNN\n",
    "tmp_x = pad(preproc_english_sentences_train, max_french_sequence_length_train)\n",
    "tmp_x = tmp_x.reshape((-1, preproc_french_sentences_train.shape[-2], 1))\n",
    "\n",
    "# Train the model on the training set\n",
    "simple_rnn_model_split = simple_model_split(\n",
    "    tmp_x.shape,\n",
    "    max_french_sequence_length_train,\n",
    "    english_vocab_size_train + 1,\n",
    "    french_vocab_size_train + 1)\n",
    "\n",
    "simple_rnn_model_split.fit(tmp_x, preproc_french_sentences_train, batch_size=200, epochs=10, validation_split=0.2)\n",
    "\n",
    "# Print prediction(s)\n",
    "print(logits_to_text(simple_rnn_model_split.predict(tmp_x[:1])[0], french_tokenizer_train))"
   ]
  },
  {
   "cell_type": "markdown",
   "metadata": {},
   "source": [
    "### Test the simple model on the test data set\n",
    "\n",
    "See how the model trained on the training set data performs on the unseen test data."
   ]
  },
  {
   "cell_type": "code",
   "execution_count": 21,
   "metadata": {},
   "outputs": [
    {
     "name": "stdout",
     "output_type": "stream",
     "text": [
      "Simple model accuracy on unseen test dataset: 41.03%\n"
     ]
    }
   ],
   "source": [
    "### Evaluate the model on the test set ###\n",
    "\n",
    "# Reshape the test data \n",
    "test_x = pad(preproc_english_sentences_test, max_french_sequence_length_test)\n",
    "test_x = test_x.reshape((-1, preproc_french_sentences_train.shape[-2], 1))\n",
    "\n",
    "# Rehsape the test label data to fit the model\n",
    "preproc_french_sentences_test = preproc_french_sentences_test.reshape((-1, preproc_french_sentences_train.shape[-2], 1))\n",
    "\n",
    "# Evaluate the model on the unseen test data\n",
    "simple_rnn_model_score = simple_rnn_model_split.evaluate(test_x, preproc_french_sentences_test, verbose=0)\n",
    "\n",
    "print(\"Simple model accuracy on unseen test dataset: {0:.2f}%\".format(simple_rnn_model_score[1]*100))"
   ]
  },
  {
   "cell_type": "markdown",
   "metadata": {},
   "source": [
    "### Model 2: Embedding (IMPLEMENTATION)\n",
    "![RNN](images/embedding.png)\n",
    "You've turned the words into ids, but there's a better representation of a word.  This is called word embeddings.  An embedding is a vector representation of the word that is close to similar words in n-dimensional space, where the n represents the size of the embedding vectors.\n",
    "\n",
    "In this model, you'll create a RNN model using embedding."
   ]
  },
  {
   "cell_type": "code",
   "execution_count": 19,
   "metadata": {},
   "outputs": [
    {
     "name": "stdout",
     "output_type": "stream",
     "text": [
      "Train on 110288 samples, validate on 27573 samples\n",
      "Epoch 1/10\n",
      "110288/110288 [==============================] - 29s 265us/step - loss: 1.5027 - acc: 0.6711 - val_loss: 0.5175 - val_acc: 0.8365\n",
      "Epoch 2/10\n",
      "110288/110288 [==============================] - 29s 260us/step - loss: 0.4068 - acc: 0.8652 - val_loss: 0.3259 - val_acc: 0.8910\n",
      "Epoch 3/10\n",
      "110288/110288 [==============================] - 29s 260us/step - loss: 0.2892 - acc: 0.9020 - val_loss: 0.2676 - val_acc: 0.9106\n",
      "Epoch 4/10\n",
      "110288/110288 [==============================] - 29s 259us/step - loss: 0.2385 - acc: 0.9180 - val_loss: 0.2367 - val_acc: 0.9198\n",
      "Epoch 5/10\n",
      "110288/110288 [==============================] - 29s 259us/step - loss: 0.2160 - acc: 0.9248 - val_loss: 0.2100 - val_acc: 0.9277\n",
      "Epoch 6/10\n",
      "110288/110288 [==============================] - 29s 259us/step - loss: 0.2000 - acc: 0.9299 - val_loss: 0.2020 - val_acc: 0.9304\n",
      "Epoch 7/10\n",
      "110288/110288 [==============================] - 29s 260us/step - loss: 0.1925 - acc: 0.9322 - val_loss: 0.2014 - val_acc: 0.9304\n",
      "Epoch 8/10\n",
      "110288/110288 [==============================] - 29s 259us/step - loss: 0.1839 - acc: 0.9346 - val_loss: 0.1955 - val_acc: 0.9326\n",
      "Epoch 9/10\n",
      "110288/110288 [==============================] - 29s 259us/step - loss: 0.1792 - acc: 0.9360 - val_loss: 0.1917 - val_acc: 0.9333\n",
      "Epoch 10/10\n",
      "110288/110288 [==============================] - 29s 259us/step - loss: 0.1762 - acc: 0.9367 - val_loss: 0.1901 - val_acc: 0.9340\n",
      "new jersey est parfois calme en l' automne et il est neigeux en avril <PAD> <PAD> <PAD> <PAD> <PAD> <PAD> <PAD>\n"
     ]
    }
   ],
   "source": [
    "### Embedding model trained on entire dataset ###\n",
    "\n",
    "def embed_model(input_shape, output_sequence_length, english_vocab_size, french_vocab_size):\n",
    "    \"\"\"\n",
    "    Build and train a RNN model using word embedding on x and y\n",
    "    :param input_shape: Tuple of input shape\n",
    "    :param output_sequence_length: Length of output sequence\n",
    "    :param english_vocab_size: Number of unique English words in the dataset\n",
    "    :param french_vocab_size: Number of unique French words in the dataset\n",
    "    :return: Keras model built, but not trained\n",
    "    \"\"\"\n",
    "    # TODO: Implement\n",
    "    \n",
    "    # RNN model with embedding layer\n",
    "    input_layer = Input(shape=input_shape[1:])\n",
    "    embedding_layer = Embedding(512, english_vocab_size)(input_layer)\n",
    "    x = GRU(512, return_sequences=True)(embedding_layer)\n",
    "    x = TimeDistributed(Dense(french_vocab_size*4, activation='relu'))(x)\n",
    "    output_layer = Dense(french_vocab_size, activation='softmax')(x)\n",
    "    \n",
    "    model = Model(inputs=input_layer, outputs=output_layer)\n",
    "    \n",
    "    # Compile the model\n",
    "    learning_rate = 0.01\n",
    "    model.compile(loss=sparse_categorical_crossentropy,\n",
    "                  optimizer=Adam(learning_rate),\n",
    "                  metrics=['accuracy'])\n",
    "    return model\n",
    "\n",
    "# Test the model\n",
    "tests.test_embed_model(embed_model)\n",
    "\n",
    "# TODO: Pad the input \n",
    "tmp_x = pad(preproc_english_sentences, preproc_french_sentences.shape[1])\n",
    "\n",
    "# TODO: Train the neural network on the training data\n",
    "embedding_rnn_model = embed_model(\n",
    "    tmp_x.shape,\n",
    "    max_french_sequence_length,\n",
    "    english_vocab_size + 1,\n",
    "    french_vocab_size + 1)\n",
    "embedding_rnn_model.fit(tmp_x, preproc_french_sentences, batch_size=1024, epochs=10, validation_split=0.2)\n",
    "\n",
    "# TODO: Print prediction(s)\n",
    "print(logits_to_text(embedding_rnn_model.predict(tmp_x[:1])[0], french_tokenizer))"
   ]
  },
  {
   "cell_type": "markdown",
   "metadata": {},
   "source": [
    "### Train the embedding model on the training data set\n",
    "\n",
    "Use the same model as above on the training data split to see how it performs on the training split of the data."
   ]
  },
  {
   "cell_type": "code",
   "execution_count": 22,
   "metadata": {},
   "outputs": [
    {
     "name": "stdout",
     "output_type": "stream",
     "text": [
      "Train on 88230 samples, validate on 22058 samples\n",
      "Epoch 1/10\n",
      "88230/88230 [==============================] - 25s 282us/step - loss: 1.9584 - acc: 0.6122 - val_loss: 0.6769 - val_acc: 0.7963\n",
      "Epoch 2/10\n",
      "88230/88230 [==============================] - 24s 273us/step - loss: 0.4979 - acc: 0.8405 - val_loss: 0.4069 - val_acc: 0.8703\n",
      "Epoch 3/10\n",
      "88230/88230 [==============================] - 24s 273us/step - loss: 0.3377 - acc: 0.8878 - val_loss: 0.3162 - val_acc: 0.8939\n",
      "Epoch 4/10\n",
      "88230/88230 [==============================] - 24s 273us/step - loss: 0.2764 - acc: 0.9077 - val_loss: 0.2682 - val_acc: 0.9088\n",
      "Epoch 5/10\n",
      "88230/88230 [==============================] - 24s 273us/step - loss: 0.2415 - acc: 0.9188 - val_loss: 0.2502 - val_acc: 0.9158\n",
      "Epoch 6/10\n",
      "88230/88230 [==============================] - 24s 272us/step - loss: 0.2171 - acc: 0.9262 - val_loss: 0.2251 - val_acc: 0.9242\n",
      "Epoch 7/10\n",
      "88230/88230 [==============================] - 24s 273us/step - loss: 0.2061 - acc: 0.9295 - val_loss: 0.2159 - val_acc: 0.9283\n",
      "Epoch 8/10\n",
      "88230/88230 [==============================] - 24s 273us/step - loss: 0.1994 - acc: 0.9316 - val_loss: 0.2108 - val_acc: 0.9297\n",
      "Epoch 9/10\n",
      "88230/88230 [==============================] - 24s 273us/step - loss: 0.1918 - acc: 0.9335 - val_loss: 0.2007 - val_acc: 0.9321\n",
      "Epoch 10/10\n",
      "88230/88230 [==============================] - 24s 272us/step - loss: 0.1866 - acc: 0.9354 - val_loss: 0.2020 - val_acc: 0.9300\n",
      "l' inde est le gel habituellement en janvier et il est jamais agréable à l' automne <PAD> <PAD> <PAD> <PAD> <PAD>\n"
     ]
    }
   ],
   "source": [
    "### Train the embedding model on the training dataset ###\n",
    "\n",
    "def embed_model_split(input_shape, output_sequence_length, english_vocab_size, french_vocab_size):\n",
    "    \"\"\"\n",
    "    Build and train a RNN model using word embedding on x and y\n",
    "    :param input_shape: Tuple of input shape\n",
    "    :param output_sequence_length: Length of output sequence\n",
    "    :param english_vocab_size: Number of unique English words in the dataset\n",
    "    :param french_vocab_size: Number of unique French words in the dataset\n",
    "    :return: Keras model built, but not trained\n",
    "    \"\"\"\n",
    "    # TODO: Implement\n",
    "    \n",
    "    # RNN model with embedding layer\n",
    "    input_layer = Input(shape=input_shape[1:])\n",
    "    embedding_layer = Embedding(512, english_vocab_size)(input_layer)\n",
    "    x = GRU(512, return_sequences=True)(embedding_layer)\n",
    "    x = TimeDistributed(Dense(french_vocab_size*4, activation='relu'))(x)\n",
    "    output_layer = Dense(french_vocab_size, activation='softmax')(x)\n",
    "    \n",
    "    model = Model(inputs=input_layer, outputs=output_layer)\n",
    "    \n",
    "    # Compile the model\n",
    "    learning_rate = 0.01\n",
    "    model.compile(loss=sparse_categorical_crossentropy,\n",
    "                  optimizer=Adam(learning_rate),\n",
    "                  metrics=['accuracy'])\n",
    "    return model\n",
    "\n",
    "# Pad the input \n",
    "tmp_x = pad(preproc_english_sentences_train, preproc_french_sentences_train.shape[1])\n",
    "\n",
    "# Train the neural network on the training data\n",
    "embedding_model_split_train = embed_model_split(tmp_x.shape,\n",
    "                                  max_french_sequence_length_train,\n",
    "                                  english_vocab_size_train + 1,\n",
    "                                  french_vocab_size_train + 1)\n",
    "\n",
    "embedding_model_split_train.fit(tmp_x, preproc_french_sentences_train, batch_size=1024, epochs=10, validation_split=0.2)\n",
    "\n",
    "# Print prediction(s)\n",
    "print(logits_to_text(embedding_model_split_train.predict(tmp_x[:1])[0], french_tokenizer_train))"
   ]
  },
  {
   "cell_type": "markdown",
   "metadata": {},
   "source": [
    "### Test the embedding model on the test data set\n",
    "\n",
    "See how the model trained on the training set data performs on the unseen test data."
   ]
  },
  {
   "cell_type": "code",
   "execution_count": 23,
   "metadata": {},
   "outputs": [
    {
     "name": "stdout",
     "output_type": "stream",
     "text": [
      "Embedding model accuracy on unseen test data: 45.05%\n"
     ]
    }
   ],
   "source": [
    "### Evaluate the embedding model on the unseen test data ###\n",
    "\n",
    "test_x = pad(preproc_english_sentences_test, max_french_sequence_length_test)\n",
    "test_x = test_x.reshape((-1, preproc_french_sentences_train.shape[-2]))\n",
    "\n",
    "embedding_model_score = embedding_model_split_train.evaluate(test_x, preproc_french_sentences_test, verbose=0)\n",
    "\n",
    "print(\"Embedding model accuracy on unseen test data: {0:.2f}%\".format(embedding_model_score[1]*100))"
   ]
  },
  {
   "cell_type": "markdown",
   "metadata": {},
   "source": [
    "### Model 3: Bidirectional RNNs (IMPLEMENTATION)\n",
    "![RNN](images/bidirectional.png)\n",
    "One restriction of a RNN is that it can't see the future input, only the past.  This is where bidirectional recurrent neural networks come in.  They are able to see the future data."
   ]
  },
  {
   "cell_type": "code",
   "execution_count": 22,
   "metadata": {},
   "outputs": [
    {
     "name": "stdout",
     "output_type": "stream",
     "text": [
      "Train on 110288 samples, validate on 27573 samples\n",
      "Epoch 1/10\n",
      "110288/110288 [==============================] - 38s 348us/step - loss: 1.8969 - acc: 0.5741 - val_loss: 1.1584 - val_acc: 0.6571\n",
      "Epoch 2/10\n",
      "110288/110288 [==============================] - 37s 339us/step - loss: 1.0863 - acc: 0.6683 - val_loss: 0.9746 - val_acc: 0.6908\n",
      "Epoch 3/10\n",
      "110288/110288 [==============================] - 37s 338us/step - loss: 0.9377 - acc: 0.6941 - val_loss: 0.8846 - val_acc: 0.7049\n",
      "Epoch 4/10\n",
      "110288/110288 [==============================] - 37s 338us/step - loss: 0.8537 - acc: 0.7126 - val_loss: 0.8459 - val_acc: 0.7058\n",
      "Epoch 5/10\n",
      "110288/110288 [==============================] - 37s 339us/step - loss: 0.8545 - acc: 0.7101 - val_loss: 0.7891 - val_acc: 0.7190\n",
      "Epoch 6/10\n",
      "110288/110288 [==============================] - 37s 339us/step - loss: 0.7689 - acc: 0.7340 - val_loss: 0.7763 - val_acc: 0.7312\n",
      "Epoch 7/10\n",
      "110288/110288 [==============================] - 37s 338us/step - loss: 0.7038 - acc: 0.7544 - val_loss: 0.6399 - val_acc: 0.7775\n",
      "Epoch 8/10\n",
      "110288/110288 [==============================] - 37s 338us/step - loss: 0.7261 - acc: 0.7420 - val_loss: 0.7536 - val_acc: 0.7207\n",
      "Epoch 9/10\n",
      "110288/110288 [==============================] - 37s 338us/step - loss: 0.6992 - acc: 0.7400 - val_loss: 0.6433 - val_acc: 0.7637\n",
      "Epoch 10/10\n",
      "110288/110288 [==============================] - 37s 338us/step - loss: 0.6573 - acc: 0.7567 - val_loss: 0.6186 - val_acc: 0.7771\n",
      "new jersey est parfois calme au mois et il est il est avril <PAD> <PAD> <PAD> <PAD> <PAD> <PAD> <PAD> <PAD>\n"
     ]
    }
   ],
   "source": [
    "def bd_model(input_shape, output_sequence_length, english_vocab_size, french_vocab_size):\n",
    "    \"\"\"\n",
    "    Build and train a bidirectional RNN model on x and y\n",
    "    :param input_shape: Tuple of input shape\n",
    "    :param output_sequence_length: Length of output sequence\n",
    "    :param english_vocab_size: Number of unique English words in the dataset\n",
    "    :param french_vocab_size: Number of unique French words in the dataset\n",
    "    :return: Keras model built, but not trained\n",
    "    \"\"\"\n",
    "    # TODO: Implement\n",
    "    \n",
    "    # Build the bidirectional RNN model\n",
    "    input_layer = Input(shape=input_shape[1:])\n",
    "    x = Bidirectional(GRU(512, return_sequences=True, recurrent_dropout=0.2))(input_layer)\n",
    "    x = Dense(french_vocab_size*2, activation='relu')(x)\n",
    "    output_layer = TimeDistributed(Dense(french_vocab_size, activation='softmax'))(x)\n",
    "    \n",
    "    model = Model(inputs=input_layer, outputs=output_layer)\n",
    "    \n",
    "    # Compile the model\n",
    "    learning_rate = 0.01\n",
    "    model.compile(loss=sparse_categorical_crossentropy,\n",
    "                  optimizer=Adam(learning_rate),\n",
    "                  metrics=['accuracy'])\n",
    "    \n",
    "    return model\n",
    "tests.test_bd_model(bd_model)\n",
    "\n",
    "# Pad the input\n",
    "tmp_x = pad(preproc_english_sentences, max_french_sequence_length)\n",
    "tmp_x = tmp_x.reshape((-1, preproc_french_sentences.shape[-2], 1))\n",
    "\n",
    "# TODO: Train and Print prediction(s)\n",
    "\n",
    "# Train the model\n",
    "bidirectional_model = bd_model(tmp_x.shape,\n",
    "                               max_french_sequence_length,\n",
    "                               english_vocab_size + 1,\n",
    "                               french_vocab_size + 1)\n",
    "# Fit the model\n",
    "bidirectional_model.fit(tmp_x, preproc_french_sentences, batch_size=1024, epochs=10, validation_split=0.2)\n",
    "\n",
    "# Print out the predictions\n",
    "print(logits_to_text(bidirectional_model.predict(tmp_x[:1])[0], french_tokenizer))"
   ]
  },
  {
   "cell_type": "markdown",
   "metadata": {},
   "source": [
    "### Train the bidirectional model on the training data set\n",
    "\n",
    "Use the same model as above on the training data split to see how it performs."
   ]
  },
  {
   "cell_type": "code",
   "execution_count": 24,
   "metadata": {},
   "outputs": [
    {
     "name": "stdout",
     "output_type": "stream",
     "text": [
      "Train on 88230 samples, validate on 22058 samples\n",
      "Epoch 1/10\n",
      "88230/88230 [==============================] - 29s 332us/step - loss: 2.0334 - acc: 0.5574 - val_loss: 1.4097 - val_acc: 0.6214\n",
      "Epoch 2/10\n",
      "88230/88230 [==============================] - 28s 319us/step - loss: 1.2814 - acc: 0.6423 - val_loss: 1.1856 - val_acc: 0.6567\n",
      "Epoch 3/10\n",
      "88230/88230 [==============================] - 28s 319us/step - loss: 1.1230 - acc: 0.6689 - val_loss: 1.0758 - val_acc: 0.6796\n",
      "Epoch 4/10\n",
      "88230/88230 [==============================] - 28s 319us/step - loss: 1.0245 - acc: 0.6886 - val_loss: 0.9991 - val_acc: 0.6918\n",
      "Epoch 5/10\n",
      "88230/88230 [==============================] - 28s 319us/step - loss: 0.9436 - acc: 0.7101 - val_loss: 0.9159 - val_acc: 0.7240\n",
      "Epoch 6/10\n",
      "88230/88230 [==============================] - 28s 319us/step - loss: 0.8731 - acc: 0.7308 - val_loss: 0.8458 - val_acc: 0.7371\n",
      "Epoch 7/10\n",
      "88230/88230 [==============================] - 28s 319us/step - loss: 0.8128 - acc: 0.7487 - val_loss: 0.8095 - val_acc: 0.7490\n",
      "Epoch 8/10\n",
      "88230/88230 [==============================] - 28s 319us/step - loss: 0.7712 - acc: 0.7596 - val_loss: 0.7922 - val_acc: 0.7466\n",
      "Epoch 9/10\n",
      "88230/88230 [==============================] - 28s 319us/step - loss: 0.7393 - acc: 0.7667 - val_loss: 0.7302 - val_acc: 0.7670\n",
      "Epoch 10/10\n",
      "88230/88230 [==============================] - 28s 318us/step - loss: 0.7048 - acc: 0.7763 - val_loss: 0.7250 - val_acc: 0.7658\n",
      "l' inde est généralement beau en en et il est jamais agréable en en <PAD> <PAD> <PAD> <PAD> <PAD> <PAD> <PAD>\n"
     ]
    }
   ],
   "source": [
    "### Train the bidirectional model on the training data set ###\n",
    "\n",
    "def bd_model_split(input_shape, output_sequence_length, english_vocab_size, french_vocab_size):\n",
    "    \"\"\"\n",
    "    Build and train a bidirectional RNN model on x and y\n",
    "    :param input_shape: Tuple of input shape\n",
    "    :param output_sequence_length: Length of output sequence\n",
    "    :param english_vocab_size: Number of unique English words in the dataset\n",
    "    :param french_vocab_size: Number of unique French words in the dataset\n",
    "    :return: Keras model built, but not trained\n",
    "    \"\"\"\n",
    "    \n",
    "    # Build the bidirectional RNN model\n",
    "    input_layer = Input(shape=input_shape[1:])\n",
    "    x = Bidirectional(GRU(512, return_sequences=True, recurrent_dropout=0.2))(input_layer)\n",
    "    x = Dense(french_vocab_size, activation='relu')(x)\n",
    "    output_layer = TimeDistributed(Dense(french_vocab_size, activation='softmax'))(x)\n",
    "    model = Model(inputs=input_layer, outputs=output_layer)\n",
    "    \n",
    "    # Compile the model\n",
    "    learning_rate = 0.001\n",
    "    model.compile(loss=sparse_categorical_crossentropy,\n",
    "                  optimizer=Adam(learning_rate),\n",
    "                  metrics=['accuracy'])\n",
    "    \n",
    "    return model\n",
    "\n",
    "# Pad the input\n",
    "tmp_x = pad(preproc_english_sentences_train, max_french_sequence_length_train)\n",
    "tmp_x = tmp_x.reshape((-1, preproc_french_sentences_train.shape[-2], 1))\n",
    "\n",
    "# Train the model\n",
    "bidirectional_model_train = bd_model_split(tmp_x.shape,\n",
    "                               max_french_sequence_length_train,\n",
    "                               english_vocab_size_train + 1,\n",
    "                               french_vocab_size_train + 1)\n",
    "# Fit the model\n",
    "bidirectional_model_train.fit(tmp_x, preproc_french_sentences_train, batch_size=1024, epochs=10, validation_split=0.2)\n",
    "\n",
    "# Print out the predictions\n",
    "print(logits_to_text(bidirectional_model_train.predict(tmp_x[:1])[0], french_tokenizer_train))"
   ]
  },
  {
   "cell_type": "markdown",
   "metadata": {},
   "source": [
    "### Test the bidirectional model on the test data set\n",
    "\n",
    "See how the model trained on the training set data performs on the unseen test data."
   ]
  },
  {
   "cell_type": "code",
   "execution_count": 25,
   "metadata": {},
   "outputs": [
    {
     "name": "stdout",
     "output_type": "stream",
     "text": [
      "Bidirectional model accuracy on test data: 17.92%\n"
     ]
    }
   ],
   "source": [
    "### Evaluate the bidirectional model on the unseen test data set ###\n",
    "\n",
    "test_x = pad(preproc_english_sentences_test, max_french_sequence_length_test)\n",
    "test_x = test_x.reshape((-1, preproc_french_sentences_train.shape[-2], 1))\n",
    "\n",
    "bidirectional_model_score = bidirectional_model_train.evaluate(test_x, preproc_french_sentences_test, verbose=0)\n",
    "\n",
    "print(\"Bidirectional model accuracy on test data: {0:.2f}%\".format(bidirectional_model_score[1]*100))"
   ]
  },
  {
   "cell_type": "markdown",
   "metadata": {},
   "source": [
    "### Model 4: Encoder-Decoder (OPTIONAL)\n",
    "Time to look at encoder-decoder models.  This model is made up of an encoder and decoder. The encoder creates a matrix representation of the sentence.  The decoder takes this matrix as input and predicts the translation as output.\n",
    "\n",
    "Create an encoder-decoder model in the cell below."
   ]
  },
  {
   "cell_type": "code",
   "execution_count": 33,
   "metadata": {},
   "outputs": [
    {
     "name": "stdout",
     "output_type": "stream",
     "text": [
      "Train on 110288 samples, validate on 27573 samples\n",
      "Epoch 1/10\n",
      "110288/110288 [==============================] - 21s 194us/step - loss: 3.1371 - acc: 0.4141 - val_loss: 2.7138 - val_acc: 0.4522\n",
      "Epoch 2/10\n",
      "110288/110288 [==============================] - 20s 183us/step - loss: 2.4960 - acc: 0.4583 - val_loss: 2.2462 - val_acc: 0.4804\n",
      "Epoch 3/10\n",
      "110288/110288 [==============================] - 20s 183us/step - loss: 2.1627 - acc: 0.4933 - val_loss: 2.0199 - val_acc: 0.5105\n",
      "Epoch 4/10\n",
      "110288/110288 [==============================] - 20s 183us/step - loss: 1.8715 - acc: 0.5370 - val_loss: 1.9455 - val_acc: 0.5152\n",
      "Epoch 5/10\n",
      "110288/110288 [==============================] - 20s 183us/step - loss: 1.6046 - acc: 0.5857 - val_loss: 1.4855 - val_acc: 0.6106\n",
      "Epoch 6/10\n",
      "110288/110288 [==============================] - 20s 183us/step - loss: 1.4555 - acc: 0.6093 - val_loss: 1.3976 - val_acc: 0.6150\n",
      "Epoch 7/10\n",
      "110288/110288 [==============================] - 20s 183us/step - loss: 1.3708 - acc: 0.6231 - val_loss: 1.3332 - val_acc: 0.6295\n",
      "Epoch 8/10\n",
      "110288/110288 [==============================] - 20s 183us/step - loss: 1.3169 - acc: 0.6325 - val_loss: 1.4221 - val_acc: 0.6089\n",
      "Epoch 9/10\n",
      "110288/110288 [==============================] - 20s 183us/step - loss: 1.2570 - acc: 0.6495 - val_loss: 1.2058 - val_acc: 0.6611\n",
      "Epoch 10/10\n",
      "110288/110288 [==============================] - 20s 182us/step - loss: 1.2355 - acc: 0.6600 - val_loss: 1.8061 - val_acc: 0.5594\n",
      "new jersey est jamais chaud en mais il est est est <PAD> <PAD> <PAD> <PAD> <PAD> <PAD> <PAD> <PAD> <PAD> <PAD>\n"
     ]
    }
   ],
   "source": [
    "def encdec_model(input_shape, output_sequence_length, english_vocab_size, french_vocab_size):\n",
    "    \"\"\"\n",
    "    Build and train an encoder-decoder model on x and y\n",
    "    :param input_shape: Tuple of input shape\n",
    "    :param output_sequence_length: Length of output sequence\n",
    "    :param english_vocab_size: Number of unique English words in the dataset\n",
    "    :param french_vocab_size: Number of unique French words in the dataset\n",
    "    :return: Keras model built, but not trained\n",
    "    \"\"\"\n",
    "    # OPTIONAL: Implement\n",
    "    \n",
    "    # Build the encoder-decoder RNN model\n",
    "    input_layer= Input(shape=input_shape[1:])\n",
    "    encoder = GRU(256, recurrent_dropout=0.2)(input_layer)\n",
    "    repeat_vector = RepeatVector(output_sequence_length)(encoder)\n",
    "    decoder = GRU(256, return_sequences=True, recurrent_dropout=0.2)(repeat_vector)\n",
    "    dense_layer = Dense(french_vocab_size, activation='relu')(decoder)\n",
    "    output_layer = TimeDistributed(Dense(french_vocab_size, activation='softmax'))(decoder)\n",
    "    \n",
    "    model = Model(inputs=input_layer, outputs=output_layer)\n",
    "    \n",
    "    # Compile the model\n",
    "    learning_rate = 0.01\n",
    "    model.compile(loss=sparse_categorical_crossentropy,\n",
    "                  optimizer=Adam(lr=learning_rate),\n",
    "                  metrics=['accuracy'])\n",
    "    \n",
    "    return model\n",
    "tests.test_encdec_model(encdec_model)\n",
    "\n",
    "# Reshape the input\n",
    "tmp_x = pad(preproc_english_sentences, max_french_sequence_length)\n",
    "tmp_x = tmp_x.reshape((-1, preproc_french_sentences.shape[-2], 1))\n",
    "\n",
    "# Train the model\n",
    "encoder_decoder_model = encdec_model(tmp_x.shape,\n",
    "                                     max_french_sequence_length,\n",
    "                                     english_vocab_size + 1,\n",
    "                                     french_vocab_size + 1)\n",
    "encoder_decoder_model.fit(tmp_x, preproc_french_sentences, batch_size=1024, epochs=10, validation_split=0.2)\n",
    "\n",
    "# Print the prediction(s)\n",
    "print(logits_to_text(encoder_decoder_model.predict(tmp_x[:1])[0], french_tokenizer))"
   ]
  },
  {
   "cell_type": "markdown",
   "metadata": {},
   "source": [
    "### Train the encoder-decoder model on the training dataset\n",
    "\n",
    "Use the same enc-dec model as above but train it on the training data split of the initial dataset."
   ]
  },
  {
   "cell_type": "code",
   "execution_count": 26,
   "metadata": {},
   "outputs": [
    {
     "name": "stdout",
     "output_type": "stream",
     "text": [
      "Train on 88230 samples, validate on 22058 samples\n",
      "Epoch 1/10\n",
      "88230/88230 [==============================] - 17s 195us/step - loss: 2.6871 - acc: 0.4581 - val_loss: 2.0801 - val_acc: 0.5095\n",
      "Epoch 2/10\n",
      "88230/88230 [==============================] - 16s 183us/step - loss: 1.6901 - acc: 0.5682 - val_loss: 1.4730 - val_acc: 0.6004\n",
      "Epoch 3/10\n",
      "88230/88230 [==============================] - 16s 183us/step - loss: 1.4281 - acc: 0.6064 - val_loss: 1.3775 - val_acc: 0.6168\n",
      "Epoch 4/10\n",
      "88230/88230 [==============================] - 16s 183us/step - loss: 1.3360 - acc: 0.6239 - val_loss: 1.2559 - val_acc: 0.6443\n",
      "Epoch 5/10\n",
      "88230/88230 [==============================] - 16s 183us/step - loss: 1.2611 - acc: 0.6416 - val_loss: 1.2326 - val_acc: 0.6393\n",
      "Epoch 6/10\n",
      "88230/88230 [==============================] - 16s 183us/step - loss: 1.1757 - acc: 0.6607 - val_loss: 1.1343 - val_acc: 0.6722\n",
      "Epoch 7/10\n",
      "88230/88230 [==============================] - 16s 183us/step - loss: 1.2498 - acc: 0.6476 - val_loss: 1.2727 - val_acc: 0.6399\n",
      "Epoch 8/10\n",
      "88230/88230 [==============================] - 16s 183us/step - loss: 1.1682 - acc: 0.6630 - val_loss: 1.2444 - val_acc: 0.6430\n",
      "Epoch 9/10\n",
      "88230/88230 [==============================] - 16s 183us/step - loss: 1.1148 - acc: 0.6720 - val_loss: 1.0868 - val_acc: 0.6753\n",
      "Epoch 10/10\n",
      "88230/88230 [==============================] - 16s 183us/step - loss: 1.1341 - acc: 0.6627 - val_loss: 1.0867 - val_acc: 0.6741\n",
      "l' inde est jamais agréable en mois et il est il est en en <PAD> <PAD> <PAD> <PAD> <PAD> <PAD> <PAD>\n"
     ]
    }
   ],
   "source": [
    "### Train the encoder-decoder model on the training split of the dataset ###\n",
    "\n",
    "def encdec_model_train(input_shape, output_sequence_length, english_vocab_size, french_vocab_size):\n",
    "    \"\"\"\n",
    "    Build and train an encoder-decoder model on x and y\n",
    "    :param input_shape: Tuple of input shape\n",
    "    :param output_sequence_length: Length of output sequence\n",
    "    :param english_vocab_size: Number of unique English words in the dataset\n",
    "    :param french_vocab_size: Number of unique French words in the dataset\n",
    "    :return: Keras model built, but not trained\n",
    "    \"\"\"\n",
    "    \n",
    "    # Build the encoder-decoder RNN model\n",
    "    input_layer= Input(shape=input_shape[1:])\n",
    "    encoder = GRU(256, recurrent_dropout=0.2)(input_layer)\n",
    "    repeat_vector = RepeatVector(output_sequence_length)(encoder)\n",
    "    decoder = GRU(256, return_sequences=True, recurrent_dropout=0.2)(repeat_vector)\n",
    "    dense_layer = Dense(french_vocab_size, activation='relu')(decoder)\n",
    "    output_layer = TimeDistributed(Dense(french_vocab_size, activation='softmax'))(decoder)\n",
    "    \n",
    "    model = Model(inputs=input_layer, outputs=output_layer)\n",
    "    \n",
    "    # Compile the model\n",
    "    learning_rate = 0.01\n",
    "    model.compile(loss=sparse_categorical_crossentropy,\n",
    "                  optimizer=Adam(lr=learning_rate),\n",
    "                  metrics=['accuracy'])\n",
    "    \n",
    "    return model\n",
    "\n",
    "# Reshape the input\n",
    "tmp_x = pad(preproc_english_sentences_train, max_french_sequence_length_train)\n",
    "tmp_x = tmp_x.reshape((-1, preproc_french_sentences_train.shape[-2], 1))\n",
    "\n",
    "# Train the model\n",
    "encoder_decoder_model_train = encdec_model_train(tmp_x.shape,\n",
    "                                     max_french_sequence_length_train,\n",
    "                                     english_vocab_size_train + 1,\n",
    "                                     french_vocab_size_train + 1)\n",
    "encoder_decoder_model_train.fit(tmp_x, preproc_french_sentences_train, batch_size=1024, epochs=10, validation_split=0.2)\n",
    "\n",
    "# Print the prediction(s)\n",
    "print(logits_to_text(encoder_decoder_model_train.predict(tmp_x[:1])[0], french_tokenizer_train))"
   ]
  },
  {
   "cell_type": "markdown",
   "metadata": {},
   "source": [
    "### Evaluate the enc-dec model on the test set\n",
    "\n",
    "Use the unseen test data set to evaluate the enc-dec model trained on the training data."
   ]
  },
  {
   "cell_type": "code",
   "execution_count": 27,
   "metadata": {
    "scrolled": true
   },
   "outputs": [
    {
     "name": "stdout",
     "output_type": "stream",
     "text": [
      "(26260, 21, 1)\n",
      "(110288, 21, 1)\n",
      "(26260, 21, 1)\n",
      "Encoder-decoder model accuracy on the unseen test data: 14.74%\n"
     ]
    }
   ],
   "source": [
    "### Evaluate the encoder-decoder model on the unseen test dataset ###\n",
    "\n",
    "# Shape the data to fit\n",
    "test_x = pad(preproc_english_sentences_test, max_french_sequence_length_test)\n",
    "test_x = test_x.reshape((-1, preproc_french_sentences_train.shape[-2], 1))\n",
    "preproc_french_sentences_test = preproc_french_sentences_test.reshape((-1, preproc_french_sentences_train.shape[-2], 1))\n",
    "\n",
    "print(test_x.shape)\n",
    "print(preproc_french_sentences_train.shape)\n",
    "print(preproc_french_sentences_test.shape)\n",
    "\n",
    "# Evaluate the model\n",
    "encoder_decoder_model_score = encoder_decoder_model_train.evaluate(test_x, preproc_french_sentences_test, verbose=0)\n",
    "\n",
    "print(\"Encoder-decoder model accuracy on the unseen test data: {0:.2f}%\".format(encoder_decoder_model_score[1]*100))"
   ]
  },
  {
   "cell_type": "markdown",
   "metadata": {},
   "source": [
    "### Model 5: Custom (IMPLEMENTATION)\n",
    "Use everything you learned from the previous models to create a model that incorporates embedding and a bidirectional rnn into one model."
   ]
  },
  {
   "cell_type": "code",
   "execution_count": 16,
   "metadata": {},
   "outputs": [
    {
     "name": "stdout",
     "output_type": "stream",
     "text": [
      "Final Model Loaded\n"
     ]
    }
   ],
   "source": [
    "def model_final(input_shape, output_sequence_length, english_vocab_size, french_vocab_size):\n",
    "    \"\"\"\n",
    "    Build and train a model that incorporates embedding, encoder-decoder, and bidirectional RNN on x and y\n",
    "    :param input_shape: Tuple of input shape\n",
    "    :param output_sequence_length: Length of output sequence\n",
    "    :param english_vocab_size: Number of unique English words in the dataset\n",
    "    :param french_vocab_size: Number of unique French words in the dataset\n",
    "    :return: Keras model built, but not trained\n",
    "    \"\"\"\n",
    "    # TODO: Implement\n",
    "    \n",
    "    # Final model 2 - simplified version of final model 1\n",
    "    # Added Dense layer with relu activation after first GRU layer instead of after 2nd GRU layer\n",
    "    \n",
    "    input_layer = Input(shape=input_shape[1:])\n",
    "    embedding_layer = Embedding(english_vocab_size*2, english_vocab_size)(input_layer)\n",
    "    x = Bidirectional(GRU(256))(embedding_layer)\n",
    "    x = Dense(256, activation='relu')(x)\n",
    "    x = RepeatVector(output_sequence_length)(x)\n",
    "    x = Bidirectional(GRU(256, return_sequences=True))(x)\n",
    "    output_layer = TimeDistributed(Dense(french_vocab_size, activation='softmax'))(x)\n",
    "    \n",
    "    \n",
    "    ### Final model 1 ###\n",
    "    \n",
    "    # Build RNN model with embedding, encoder-decoder and bidirectional layers\n",
    "    #input_layer = Input(shape=input_shape[1:])\n",
    "    #embedding_layer = Embedding(750, english_vocab_size)(input_layer)\n",
    "    #encoder = GRU(750)(embedding_layer)\n",
    "    #repeat_vector = RepeatVector(output_sequence_length)(encoder)\n",
    "    #decoder = Bidirectional(GRU(750, return_sequences=True))(repeat_vector)\n",
    "    #dense_layer = TimeDistributed(Dense(french_vocab_size*2, activation='relu'))(decoder)\n",
    "    #output_layer = Dense(french_vocab_size, activation='softmax')(dense_layer)\n",
    "    \n",
    "    model = Model(inputs=input_layer, outputs=output_layer)\n",
    "    \n",
    "    # Compile the model\n",
    "    learning_rate = 0.005\n",
    "    model.compile(loss=sparse_categorical_crossentropy,\n",
    "                  optimizer=Adam(lr=learning_rate),\n",
    "                  metrics=['accuracy'])\n",
    "    return model\n",
    "\n",
    "tests.test_model_final(model_final)\n",
    "\n",
    "print('Final Model Loaded')"
   ]
  },
  {
   "cell_type": "markdown",
   "metadata": {},
   "source": [
    "## Prediction (IMPLEMENTATION)"
   ]
  },
  {
   "cell_type": "code",
   "execution_count": 17,
   "metadata": {},
   "outputs": [
    {
     "name": "stdout",
     "output_type": "stream",
     "text": [
      "Train on 110288 samples, validate on 27573 samples\n",
      "Epoch 1/10\n",
      "110288/110288 [==============================] - 44s 397us/step - loss: 2.1403 - acc: 0.5192 - val_loss: 1.3422 - val_acc: 0.6440\n",
      "Epoch 2/10\n",
      "110288/110288 [==============================] - 41s 376us/step - loss: 1.0901 - acc: 0.6974 - val_loss: 0.8904 - val_acc: 0.7449\n",
      "Epoch 3/10\n",
      "110288/110288 [==============================] - 41s 376us/step - loss: 0.7579 - acc: 0.7770 - val_loss: 0.6160 - val_acc: 0.8161\n",
      "Epoch 4/10\n",
      "110288/110288 [==============================] - 41s 376us/step - loss: 0.5059 - acc: 0.8489 - val_loss: 0.3959 - val_acc: 0.8836\n",
      "Epoch 5/10\n",
      "110288/110288 [==============================] - 42s 377us/step - loss: 0.3199 - acc: 0.9076 - val_loss: 0.2606 - val_acc: 0.9261\n",
      "Epoch 6/10\n",
      "110288/110288 [==============================] - 42s 377us/step - loss: 0.2215 - acc: 0.9376 - val_loss: 0.1893 - val_acc: 0.9480\n",
      "Epoch 7/10\n",
      "110288/110288 [==============================] - 42s 377us/step - loss: 0.1476 - acc: 0.9587 - val_loss: 0.1565 - val_acc: 0.9560\n",
      "Epoch 8/10\n",
      "110288/110288 [==============================] - 42s 377us/step - loss: 0.1155 - acc: 0.9667 - val_loss: 0.1184 - val_acc: 0.9660\n",
      "Epoch 9/10\n",
      "110288/110288 [==============================] - 42s 376us/step - loss: 0.1117 - acc: 0.9674 - val_loss: 0.1200 - val_acc: 0.9650\n",
      "Epoch 10/10\n",
      "110288/110288 [==============================] - 42s 377us/step - loss: 0.0969 - acc: 0.9719 - val_loss: 0.1143 - val_acc: 0.9671\n",
      "Sample 1:\n",
      "il a vu un vieux camion jaune <PAD> <PAD> <PAD> <PAD> <PAD> <PAD> <PAD> <PAD> <PAD> <PAD> <PAD> <PAD> <PAD> <PAD>\n",
      "Il a vu un vieux camion jaune\n",
      "Sample 2:\n",
      "new jersey est parfois calme pendant l' automne et il est neigeux en avril <PAD> <PAD> <PAD> <PAD> <PAD> <PAD> <PAD>\n",
      "new jersey est parfois calme pendant l' automne et il est neigeux en avril <PAD> <PAD> <PAD> <PAD> <PAD> <PAD> <PAD>\n"
     ]
    }
   ],
   "source": [
    "def final_predictions(x, y, x_tk, y_tk):\n",
    "    \"\"\"\n",
    "    Gets predictions using the final model\n",
    "    :param x: Preprocessed English data\n",
    "    :param y: Preprocessed French data\n",
    "    :param x_tk: English tokenizer\n",
    "    :param y_tk: French tokenizer\n",
    "    \"\"\"\n",
    "    # TODO: Train neural network using model_final\n",
    "    \n",
    "    # Reshape the input\n",
    "    x = pad(x, y.shape[1])\n",
    "    \n",
    "    # Define final_model\n",
    "    final_model = model_final(x.shape, \n",
    "                              y.shape[1],\n",
    "                              len(x_tk.word_index) + 1,\n",
    "                              len(y_tk.word_index) + 1)\n",
    "    # Fit the final model\n",
    "    final_model.fit(x, y, batch_size=1024, epochs=10, validation_split=0.2)\n",
    "    \n",
    "    model = final_model\n",
    "\n",
    "    \n",
    "    ## DON'T EDIT ANYTHING BELOW THIS LINE\n",
    "    y_id_to_word = {value: key for key, value in y_tk.word_index.items()}\n",
    "    y_id_to_word[0] = '<PAD>'\n",
    "\n",
    "    sentence = 'he saw a old yellow truck'\n",
    "    sentence = [x_tk.word_index[word] for word in sentence.split()]\n",
    "    sentence = pad_sequences([sentence], maxlen=x.shape[-1], padding='post')\n",
    "    sentences = np.array([sentence[0], x[0]])\n",
    "    predictions = model.predict(sentences, len(sentences))\n",
    "\n",
    "    print('Sample 1:')\n",
    "    print(' '.join([y_id_to_word[np.argmax(x)] for x in predictions[0]]))\n",
    "    print('Il a vu un vieux camion jaune')\n",
    "    print('Sample 2:')\n",
    "    print(' '.join([y_id_to_word[np.argmax(x)] for x in predictions[1]]))\n",
    "    print(' '.join([y_id_to_word[np.max(x)] for x in y[0]]))\n",
    "\n",
    "\n",
    "final_predictions(preproc_english_sentences, preproc_french_sentences, english_tokenizer, french_tokenizer)"
   ]
  },
  {
   "cell_type": "markdown",
   "metadata": {},
   "source": [
    "### Train the final model on the training data set\n",
    "\n",
    "Use the same model as above on the training data split to see how it performs on the training split of the data."
   ]
  },
  {
   "cell_type": "code",
   "execution_count": 18,
   "metadata": {},
   "outputs": [
    {
     "name": "stdout",
     "output_type": "stream",
     "text": [
      "Train on 88230 samples, validate on 22058 samples\n",
      "Epoch 1/10\n",
      "88230/88230 [==============================] - 34s 386us/step - loss: 2.4396 - acc: 0.4774 - val_loss: 1.5870 - val_acc: 0.5979\n",
      "Epoch 2/10\n",
      "88230/88230 [==============================] - 33s 374us/step - loss: 1.3052 - acc: 0.6464 - val_loss: 1.0896 - val_acc: 0.6938\n",
      "Epoch 3/10\n",
      "88230/88230 [==============================] - 33s 374us/step - loss: 0.9340 - acc: 0.7298 - val_loss: 0.8022 - val_acc: 0.7583\n",
      "Epoch 4/10\n",
      "88230/88230 [==============================] - 33s 374us/step - loss: 0.6994 - acc: 0.7873 - val_loss: 0.6101 - val_acc: 0.8139\n",
      "Epoch 5/10\n",
      "88230/88230 [==============================] - 33s 374us/step - loss: 0.5251 - acc: 0.8405 - val_loss: 0.4761 - val_acc: 0.8572\n",
      "Epoch 6/10\n",
      "88230/88230 [==============================] - 33s 374us/step - loss: 0.3763 - acc: 0.8893 - val_loss: 0.3273 - val_acc: 0.9060\n",
      "Epoch 7/10\n",
      "88230/88230 [==============================] - 33s 374us/step - loss: 0.2806 - acc: 0.9192 - val_loss: 0.2611 - val_acc: 0.9255\n",
      "Epoch 8/10\n",
      "88230/88230 [==============================] - 33s 374us/step - loss: 0.1952 - acc: 0.9458 - val_loss: 0.1912 - val_acc: 0.9474\n",
      "Epoch 9/10\n",
      "88230/88230 [==============================] - 33s 375us/step - loss: 0.1585 - acc: 0.9559 - val_loss: 0.1657 - val_acc: 0.9528\n",
      "Epoch 10/10\n",
      "88230/88230 [==============================] - 33s 374us/step - loss: 0.1259 - acc: 0.9646 - val_loss: 0.1410 - val_acc: 0.9601\n",
      "l' inde est le gel habituellement en janvier et il est jamais agréable à l' automne <PAD> <PAD> <PAD> <PAD> <PAD>\n"
     ]
    }
   ],
   "source": [
    "### Train final model on training dataset ###\n",
    "\n",
    "# Pad the input\n",
    "tmp_x = pad(preproc_english_sentences_train, max_french_sequence_length_train)\n",
    "\n",
    "# Train the model\n",
    "final_model_train = model_final(tmp_x.shape,\n",
    "                                max_french_sequence_length_train,\n",
    "                                english_vocab_size_train + 1,\n",
    "                                french_vocab_size_train + 1)\n",
    "# Fit the model\n",
    "final_model_train.fit(tmp_x, preproc_french_sentences_train, batch_size=1024, epochs=10, validation_split=0.2)\n",
    "\n",
    "# Print out the predictions\n",
    "print(logits_to_text(final_model_train.predict(tmp_x[:1])[0], french_tokenizer_train))"
   ]
  },
  {
   "cell_type": "markdown",
   "metadata": {},
   "source": [
    "### Test the final model on the test data set\n",
    "\n",
    "See how the model trained on the training set data performs on the unseen test data."
   ]
  },
  {
   "cell_type": "code",
   "execution_count": 19,
   "metadata": {},
   "outputs": [
    {
     "name": "stdout",
     "output_type": "stream",
     "text": [
      "(26260, 21)\n",
      "(110288, 21, 1)\n",
      "(26260, 21, 1)\n",
      "Final model accuracy on test dataset: 19.64%\n"
     ]
    }
   ],
   "source": [
    "### Evaluate the final_model trained on the training set on the test data set ###\n",
    "\n",
    "# Pad the test data input\n",
    "test_x = pad(preproc_english_sentences_test, max_french_sequence_length_test)\n",
    "test_x = test_x.reshape((-1, preproc_french_sentences_train.shape[-2]))\n",
    "preproc_french_sentences_test = preproc_french_sentences_test.reshape((-1, preproc_french_sentences_train.shape[-2], 1))\n",
    "\n",
    "print(test_x.shape)\n",
    "print(preproc_french_sentences_train.shape)\n",
    "print(preproc_french_sentences_test.shape)\n",
    "\n",
    "# Evaluate the model\n",
    "final_model_test_score = final_model_train.evaluate(test_x, preproc_french_sentences_test, verbose=0)\n",
    "\n",
    "print(\"Final model accuracy on test dataset: {0:.2f}%\".format(final_model_test_score[1]*100))"
   ]
  },
  {
   "cell_type": "markdown",
   "metadata": {},
   "source": [
    "### Model Performance on Test Data\n",
    "\n",
    "How did each of the models perform on the test dataset?"
   ]
  },
  {
   "cell_type": "code",
   "execution_count": 28,
   "metadata": {},
   "outputs": [
    {
     "name": "stdout",
     "output_type": "stream",
     "text": [
      "Simple model accuracy on unseen test dataset: 41.03%\n",
      "Embedding model accuracy on unseen test data: 45.05%\n",
      "Bidirectional model accuracy on test data: 17.92%\n",
      "Encoder-decoder model accuracy on the unseen test data: 14.74%\n",
      "Final model accuracy on test dataset: 19.64%\n"
     ]
    }
   ],
   "source": [
    "print(\"Simple model accuracy on unseen test dataset: {0:.2f}%\".format(simple_rnn_model_score[1]*100))\n",
    "print(\"Embedding model accuracy on unseen test data: {0:.2f}%\".format(embedding_model_score[1]*100))\n",
    "print(\"Bidirectional model accuracy on test data: {0:.2f}%\".format(bidirectional_model_score[1]*100))\n",
    "print(\"Encoder-decoder model accuracy on the unseen test data: {0:.2f}%\".format(encoder_decoder_model_score[1]*100))\n",
    "print(\"Final model accuracy on test dataset: {0:.2f}%\".format(final_model_test_score[1]*100))"
   ]
  },
  {
   "cell_type": "markdown",
   "metadata": {},
   "source": [
    "The Embedding model achieved the highest accuracy on the unseen test data.\n",
    "\n",
    "It seems none of the models were able to achieve an accuracy level on the test set close to what they achieved on the whole dataset. \n",
    "\n",
    "This may be an issue with the `train_test_split` implementation or the lack of data in the training set for the complex models to train on. \n",
    "\n",
    "The more complex models (`final_model`, `encoder-decoder` and `bidrectional`) achieved good results on the training data but poor results on the test data. This leads me to believe the models are overfitting on the training set and in turn, not performing well on the test set. \n",
    "\n",
    "A next step would be to try and use a larger train/test data split with the complex models to see if their performance improves. "
   ]
  },
  {
   "cell_type": "markdown",
   "metadata": {},
   "source": [
    "## Submission\n",
    "When you're ready to submit, complete the following steps:\n",
    "1. Review the [rubric](https://review.udacity.com/#!/rubrics/1004/view) to ensure your submission meets all requirements to pass\n",
    "2. Generate an HTML version of this notebook\n",
    "\n",
    "  - Run the next cell to attempt automatic generation (this is the recommended method in Workspaces)\n",
    "  - Navigate to **FILE -> Download as -> HTML (.html)**\n",
    "  - Manually generate a copy using `nbconvert` from your shell terminal\n",
    "```\n",
    "$ pip install nbconvert\n",
    "$ python -m nbconvert machine_translation.ipynb\n",
    "```\n",
    "  \n",
    "3. Submit the project\n",
    "\n",
    "  - If you are in a Workspace, simply click the \"Submit Project\" button (bottom towards the right)\n",
    "  \n",
    "  - Otherwise, add the following files into a zip archive and submit them \n",
    "  - `helper.py`\n",
    "  - `machine_translation.ipynb`\n",
    "  - `machine_translation.html`\n",
    "    - You can export the notebook by navigating to **File -> Download as -> HTML (.html)**."
   ]
  },
  {
   "cell_type": "code",
   "execution_count": 29,
   "metadata": {},
   "outputs": [
    {
     "data": {
      "text/plain": [
       "['[NbConvertApp] Converting notebook machine_translation.ipynb to html',\n",
       " '[NbConvertApp] Writing 431479 bytes to machine_translation.html']"
      ]
     },
     "execution_count": 29,
     "metadata": {},
     "output_type": "execute_result"
    }
   ],
   "source": [
    "!!python -m nbconvert *.ipynb"
   ]
  },
  {
   "cell_type": "markdown",
   "metadata": {},
   "source": [
    "## Optional Enhancements\n",
    "\n",
    "This project focuses on learning various network architectures for machine translation, but we don't evaluate the models according to best practices by splitting the data into separate test & training sets -- so the model accuracy is overstated. Use the [`sklearn.model_selection.train_test_split()`](http://scikit-learn.org/stable/modules/generated/sklearn.model_selection.train_test_split.html) function to create separate training & test datasets, then retrain each of the models using only the training set and evaluate the prediction accuracy using the hold out test set. Does the \"best\" model change?"
   ]
  }
 ],
 "metadata": {
  "kernelspec": {
   "display_name": "Python 3",
   "language": "python",
   "name": "python3"
  },
  "language_info": {
   "codemirror_mode": {
    "name": "ipython",
    "version": 3
   },
   "file_extension": ".py",
   "mimetype": "text/x-python",
   "name": "python",
   "nbconvert_exporter": "python",
   "pygments_lexer": "ipython3",
   "version": "3.6.3"
  }
 },
 "nbformat": 4,
 "nbformat_minor": 1
}
